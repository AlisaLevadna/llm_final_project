{
 "cells": [
  {
   "cell_type": "code",
   "execution_count": null,
   "metadata": {},
   "outputs": [],
   "source": [
    "!pip3 install llama-index --upgrade\n",
    "!pip3 install llama-index-readers-google\n",
    "!pip3 install docx2txt\n",
    "!pip3 install openpyxl\n",
    "!pip3 install --upgrade google-api-python-client google-auth-httplib2 google-auth-oauthlib"
   ]
  },
  {
   "cell_type": "code",
   "execution_count": null,
   "metadata": {},
   "outputs": [],
   "source": [
    "!rm token.json"
   ]
  },
  {
   "cell_type": "code",
   "execution_count": null,
   "metadata": {},
   "outputs": [],
   "source": [
    "from venv import logger\n",
    "from slack_bolt import App\n",
    "from slack_bolt.adapter.socket_mode import SocketModeHandler\n",
    "from google.oauth2.credentials import Credentials\n",
    "from google_auth_oauthlib.flow import InstalledAppFlow\n",
    "from googleapiclient.discovery import build\n",
    "from google.auth.transport.requests import Request\n",
    "from llama_index.readers.google import GoogleDriveReader\n",
    "from llama_index.core import VectorStoreIndex\n",
    "import os\n",
    "\n",
    "# set tokens \n",
    "SLACK_BOT_TOKEN = \"\"\n",
    "SLACK_APP_TOKEN = \"\"\n",
    "doc_id = \"\"\n",
    "\n",
    "app = App(token=SLACK_BOT_TOKEN)\n",
    "\n",
    "# Google Drive Authentication and Document Loading\n",
    "SCOPES = [\n",
    "    'https://www.googleapis.com/auth/drive',\n",
    "    'https://www.googleapis.com/auth/documents.readonly'\n",
    "    'https://www.googleapis.com/auth/spreadsheets.readonly',\n",
    "    'https://www.googleapis.com/auth/drive.readonly'\n",
    "]\n",
    "\n",
    "def authenticate_gdrive():\n",
    "    creds = None\n",
    "    if os.path.exists('token.json'):\n",
    "        creds = Credentials.from_authorized_user_file('token.json', SCOPES)\n",
    "    if not creds or not creds.valid:\n",
    "        if creds and creds.expired and creds.refresh_token:\n",
    "            creds.refresh(Request())\n",
    "        else:\n",
    "            flow = InstalledAppFlow.from_client_secrets_file('credentials.json', SCOPES)\n",
    "            creds = flow.run_local_server(port=0)\n",
    "        with open('token.json', 'w') as token:\n",
    "            token.write(creds.to_json())\n",
    "    return creds\n",
    "\n",
    "def load_single_document(doc_id):\n",
    "    creds = authenticate_gdrive()\n",
    "    service = build('drive', 'v3', credentials=creds)\n",
    "    loader = GoogleDriveReader()\n",
    "    docs = loader.load_data(document_ids=[doc_id]) \n",
    "    return docs\n",
    "\n",
    "def create_index(doc_id):\n",
    "    google_docs = load_single_document(doc_id)\n",
    "    index = VectorStoreIndex.from_documents(google_docs)\n",
    "    return index.as_query_engine()\n",
    "\n",
    "# Event listener for the Slack bot\n",
    "@app.event(\"app_mention\") \n",
    "def handle_app_mention_events(body, say):\n",
    "    text = body['event']['text']\n",
    "    if \"search\" in text.lower():\n",
    "        doc_id = \"\"  # replace with your document ID\n",
    "        query_engine = create_index(doc_id) # replace as neccessary \n",
    "        response = query_engine.query(query)\n",
    "        say(response.response)  # Assuming response \n",
    "\n",
    "\n",
    "if __name__ == \"__main__\":\n",
    "    handler = SocketModeHandler(app, SLACK_APP_TOKEN)\n",
    "    handler.start()"
   ]
  }
 ],
 "metadata": {
  "language_info": {
   "name": "python"
  }
 },
 "nbformat": 4,
 "nbformat_minor": 2
}
